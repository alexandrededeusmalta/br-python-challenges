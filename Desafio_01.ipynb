{
  "cells": [
    {
      "cell_type": "markdown",
      "metadata": {
        "id": "view-in-github",
        "colab_type": "text"
      },
      "source": [
        "<a href=\"https://colab.research.google.com/github/alexandrededeusmalta/br-python-challenges/blob/master/Desafio_01.ipynb\" target=\"_parent\"><img src=\"https://colab.research.google.com/assets/colab-badge.svg\" alt=\"Open In Colab\"/></a>"
      ]
    },
    {
      "cell_type": "markdown",
      "metadata": {
        "id": "SbLLE9q1eldC"
      },
      "source": [
        "### Desafio 1\n",
        "\n",
        "Escreva um programa em Python para contabilizar a quantidade de ocorrências de cada palavra."
      ]
    },
    {
      "cell_type": "code",
      "execution_count": 18,
      "metadata": {
        "id": "WhtbdwFseldD"
      },
      "outputs": [],
      "source": [
        "palavras = [\n",
        "   'red', 'green', 'black', 'pink', 'black', 'white', 'black', 'eyes',\n",
        "   'white', 'black', 'orange', 'pink', 'pink', 'red', 'red', 'white', 'orange',\n",
        "   'white', \"black\", 'pink', 'green', 'green', 'pink', 'green', 'pink',\n",
        "   'white', 'orange', \"orange\", 'red'\n",
        "]\n"
      ]
    },
    {
      "cell_type": "code",
      "source": [
        "#Primeira Resolução\n",
        "\n",
        "var1 = palavras.count('red')\n",
        "var2 = palavras.count('green')\n",
        "var3 = palavras.count('black')\n",
        "var4 = palavras.count('pink')\n",
        "var5 = palavras.count('white')\n",
        "var6 = palavras.count('eyes')\n",
        "var7 = palavras.count('orange')\n",
        "print(f\"red: {var1} repetições; green: {var2} repetições; black: {var3} repetições; pink: {var4} repetições; white: {var5} repetições; eyes: {var6} repetição e orange: {var7} repetições.\")"
      ],
      "metadata": {
        "id": "Ueomqnfk0KFt",
        "outputId": "cba9443d-8bfc-4475-e568-0aab2d0966b0",
        "colab": {
          "base_uri": "https://localhost:8080/"
        }
      },
      "execution_count": 21,
      "outputs": [
        {
          "output_type": "stream",
          "name": "stdout",
          "text": [
            "red: 4 repetições; green: 4 repetições; black: 5 repetições; pink: 6 repetições; white: 5 repetições; eyes: 1 repetição e orange: 4 repetições.\n"
          ]
        }
      ]
    },
    {
      "cell_type": "code",
      "source": [
        "#Segunda Resolução\n",
        "\n",
        "contagem = {}\n",
        "for palavra in palavras:\n",
        "  total = palavras.count(palavra)\n",
        "  contagem[f'{palavra}'] = total\n",
        "print(contagem)\n"
      ],
      "metadata": {
        "id": "JMhqWWqbQyqX",
        "outputId": "b146351e-393a-4ecb-c550-f65d0e2df7ae",
        "colab": {
          "base_uri": "https://localhost:8080/"
        }
      },
      "execution_count": 40,
      "outputs": [
        {
          "output_type": "stream",
          "name": "stdout",
          "text": [
            "{'red': 4, 'green': 4, 'black': 5, 'pink': 6, 'white': 5, 'eyes': 1, 'orange': 4}\n"
          ]
        }
      ]
    },
    {
      "cell_type": "code",
      "source": [
        ""
      ],
      "metadata": {
        "id": "1zpJs-LjRris"
      },
      "execution_count": null,
      "outputs": []
    }
  ],
  "metadata": {
    "anaconda-cloud": {},
    "colab": {
      "name": "Desafio 1.ipynb",
      "provenance": [],
      "include_colab_link": true
    },
    "kernelspec": {
      "display_name": "Python 3",
      "language": "python",
      "name": "python3"
    },
    "language_info": {
      "codemirror_mode": {
        "name": "ipython",
        "version": 3
      },
      "file_extension": ".py",
      "mimetype": "text/x-python",
      "name": "python",
      "nbconvert_exporter": "python",
      "pygments_lexer": "ipython3",
      "version": "3.7.9"
    }
  },
  "nbformat": 4,
  "nbformat_minor": 0
}