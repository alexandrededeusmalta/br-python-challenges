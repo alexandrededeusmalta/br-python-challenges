{
  "cells": [
    {
      "cell_type": "markdown",
      "metadata": {
        "id": "view-in-github",
        "colab_type": "text"
      },
      "source": [
        "<a href=\"https://colab.research.google.com/github/alexandrededeusmalta/br-python-challenges/blob/master/Desafio_05.ipynb\" target=\"_parent\"><img src=\"https://colab.research.google.com/assets/colab-badge.svg\" alt=\"Open In Colab\"/></a>"
      ]
    },
    {
      "cell_type": "markdown",
      "metadata": {
        "id": "gQbaWOWcW1g_"
      },
      "source": [
        "# Desafio 5\n",
        "Você trabalha em uma loja de sapatos e deve contatar uma série de clientes. Seus números de telefone estão na lista abaixo. No entanto, é possível notar números duplicados na lista dada. Você seria capaz de remover estes duplicados para evitar que clientes sejam contatados mais de uma vez?"
      ]
    },
    {
      "cell_type": "code",
      "execution_count": 1,
      "metadata": {
        "id": "T68FjcUmWear"
      },
      "outputs": [],
      "source": [
        "numeros_telefone = [\n",
        "'(765) 368-1506',\n",
        "'(285) 608-2448',\n",
        "'(255) 826-9050',\n",
        "'(554) 994-1517',\n",
        "'(285) 608-2448',\n",
        "'(596) 336-5508',\n",
        "'(511) 821-7870',\n",
        "'(410) 665-4447',\n",
        "'(821) 642-8987',\n",
        "'(285) 608-2448',\n",
        "'(311) 799-3883',\n",
        "'(935) 875-2054',\n",
        "'(464) 788-2397',\n",
        "'(765) 368-1506',\n",
        "'(650) 684-1437',\n",
        "'(812) 816-0881',\n",
        "'(285) 608-2448',\n",
        "'(885) 407-1719',\n",
        "'(943) 769-1061',\n",
        "'(596) 336-5508',\n",
        "'(765) 368-1506',\n",
        "'(255) 826-9050',\n",
        "]"
      ]
    },
    {
      "cell_type": "code",
      "execution_count": 2,
      "metadata": {
        "colab": {
          "base_uri": "https://localhost:8080/"
        },
        "id": "F8n1sN-4XrW3",
        "outputId": "139af77d-00ea-41dd-c8ca-1e1758e1104d"
      },
      "outputs": [
        {
          "output_type": "execute_result",
          "data": {
            "text/plain": [
              "{'(255) 826-9050',\n",
              " '(285) 608-2448',\n",
              " '(311) 799-3883',\n",
              " '(410) 665-4447',\n",
              " '(464) 788-2397',\n",
              " '(511) 821-7870',\n",
              " '(554) 994-1517',\n",
              " '(596) 336-5508',\n",
              " '(650) 684-1437',\n",
              " '(765) 368-1506',\n",
              " '(812) 816-0881',\n",
              " '(821) 642-8987',\n",
              " '(885) 407-1719',\n",
              " '(935) 875-2054',\n",
              " '(943) 769-1061'}"
            ]
          },
          "metadata": {},
          "execution_count": 2
        }
      ],
      "source": [
        "set(numeros_telefone)"
      ]
    },
    {
      "cell_type": "code",
      "source": [
        "list(set(numeros_telefone))"
      ],
      "metadata": {
        "id": "XLIcCS47sXUU",
        "outputId": "9f163774-4879-43b1-c062-cac5e77d49fc",
        "colab": {
          "base_uri": "https://localhost:8080/"
        }
      },
      "execution_count": 3,
      "outputs": [
        {
          "output_type": "execute_result",
          "data": {
            "text/plain": [
              "['(596) 336-5508',\n",
              " '(935) 875-2054',\n",
              " '(511) 821-7870',\n",
              " '(821) 642-8987',\n",
              " '(885) 407-1719',\n",
              " '(554) 994-1517',\n",
              " '(464) 788-2397',\n",
              " '(812) 816-0881',\n",
              " '(311) 799-3883',\n",
              " '(765) 368-1506',\n",
              " '(650) 684-1437',\n",
              " '(410) 665-4447',\n",
              " '(285) 608-2448',\n",
              " '(255) 826-9050',\n",
              " '(943) 769-1061']"
            ]
          },
          "metadata": {},
          "execution_count": 3
        }
      ]
    },
    {
      "cell_type": "code",
      "source": [
        "def remover_duplicados(numeros_telefone):\n",
        "  list(set(numeros_telefone))\n",
        "  print(list(set(numeros_telefone)))"
      ],
      "metadata": {
        "id": "iPgcC1STtk0o"
      },
      "execution_count": 4,
      "outputs": []
    },
    {
      "cell_type": "code",
      "source": [
        "remover_duplicados(numeros_telefone)"
      ],
      "metadata": {
        "id": "AMBLAbr7uUeq",
        "outputId": "e696b0d7-437c-48ed-8429-b2673ad7acc2",
        "colab": {
          "base_uri": "https://localhost:8080/"
        }
      },
      "execution_count": 5,
      "outputs": [
        {
          "output_type": "stream",
          "name": "stdout",
          "text": [
            "['(596) 336-5508', '(935) 875-2054', '(511) 821-7870', '(821) 642-8987', '(885) 407-1719', '(554) 994-1517', '(464) 788-2397', '(812) 816-0881', '(311) 799-3883', '(765) 368-1506', '(650) 684-1437', '(410) 665-4447', '(285) 608-2448', '(255) 826-9050', '(943) 769-1061']\n"
          ]
        }
      ]
    }
  ],
  "metadata": {
    "colab": {
      "name": "Desafio 5.ipynb",
      "provenance": [],
      "include_colab_link": true
    },
    "kernelspec": {
      "display_name": "Python 3",
      "language": "python",
      "name": "python3"
    },
    "language_info": {
      "codemirror_mode": {
        "name": "ipython",
        "version": 3
      },
      "file_extension": ".py",
      "mimetype": "text/x-python",
      "name": "python",
      "nbconvert_exporter": "python",
      "pygments_lexer": "ipython3",
      "version": "3.7.9"
    }
  },
  "nbformat": 4,
  "nbformat_minor": 0
}