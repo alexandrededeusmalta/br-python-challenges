{
  "cells": [
    {
      "cell_type": "markdown",
      "metadata": {
        "id": "view-in-github",
        "colab_type": "text"
      },
      "source": [
        "<a href=\"https://colab.research.google.com/github/alexandrededeusmalta/br-python-challenges/blob/master/Desafio_09.ipynb\" target=\"_parent\"><img src=\"https://colab.research.google.com/assets/colab-badge.svg\" alt=\"Open In Colab\"/></a>"
      ]
    },
    {
      "cell_type": "markdown",
      "metadata": {
        "id": "HpvTpUBGf6Jr"
      },
      "source": [
        "### Desafio 9\n",
        "\n",
        "Escreva uma função que retorne a soma dos múltiplos de 3 e 5 entre 0 e um número limite, que vai ser utilizado como parâmetro. \\\n",
        "Por exemplo, se o limite for 20, ele retornará a soma de 3, 5, 6, 9, 10, 12, 15, 18, 20."
      ]
    },
    {
      "cell_type": "code",
      "execution_count": 32,
      "metadata": {
        "id": "195C6bw-f6Js"
      },
      "outputs": [],
      "source": [
        "# Resolução (parte1)\n",
        "def somar_múltiplos_abaixo_iguais_ao(limite):\n",
        "  multiplos_abaixo_iguais_ao_limite = []\n",
        "  for n in range(limite + 1):\n",
        "   if n % 3 == 0 or n % 5 == 0:\n",
        "    multiplos_abaixo_iguais_ao_limite.append(n)\n",
        "  return sum(multiplos_abaixo_iguais_ao_limite)\n"
      ]
    },
    {
      "cell_type": "code",
      "execution_count": 34,
      "metadata": {
        "colab": {
          "base_uri": "https://localhost:8080/"
        },
        "id": "a_6aqcKp6wrN",
        "outputId": "645a3dd5-2e4a-4777-91c8-7ed5247f9754"
      },
      "outputs": [
        {
          "output_type": "stream",
          "name": "stdout",
          "text": [
            "O limite escolhido é:\n",
            "20\n",
            "A soma dos múltiplos entre 0 e 20 é:\n",
            "98\n"
          ]
        }
      ],
      "source": [
        "# Resolução (parte2)\n",
        "limite = 20\n",
        "\n",
        "print(\"O limite escolhido é:\")\n",
        "print(limite)\n",
        "\n",
        "print(f\"A soma dos múltiplos entre 0 e {limite} é:\")\n",
        "print(somar_múltiplos_abaixo_iguais_ao(limite))\n"
      ]
    }
  ],
  "metadata": {
    "anaconda-cloud": {},
    "colab": {
      "name": "Desafio 9.ipynb",
      "provenance": [],
      "include_colab_link": true
    },
    "kernelspec": {
      "display_name": "Python 3",
      "language": "python",
      "name": "python3"
    },
    "language_info": {
      "codemirror_mode": {
        "name": "ipython",
        "version": 3
      },
      "file_extension": ".py",
      "mimetype": "text/x-python",
      "name": "python",
      "nbconvert_exporter": "python",
      "pygments_lexer": "ipython3",
      "version": "3.7.9"
    }
  },
  "nbformat": 4,
  "nbformat_minor": 0
}