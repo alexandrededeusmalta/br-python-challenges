{
  "cells": [
    {
      "cell_type": "markdown",
      "metadata": {
        "id": "view-in-github",
        "colab_type": "text"
      },
      "source": [
        "<a href=\"https://colab.research.google.com/github/alexandrededeusmalta/br-python-challenges/blob/master/Desafio_09.ipynb\" target=\"_parent\"><img src=\"https://colab.research.google.com/assets/colab-badge.svg\" alt=\"Open In Colab\"/></a>"
      ]
    },
    {
      "cell_type": "markdown",
      "metadata": {
        "id": "HpvTpUBGf6Jr"
      },
      "source": [
        "### Desafio 9\n",
        "\n",
        "Escreva uma função que retorne a soma dos múltiplos de 3 e 5 entre 0 e um número limite, que vai ser utilizado como parâmetro. \\\n",
        "Por exemplo, se o limite for 20, ele retornará a soma de 3, 5, 6, 9, 10, 12, 15, 18, 20."
      ]
    },
    {
      "cell_type": "code",
      "execution_count": 32,
      "metadata": {
        "id": "195C6bw-f6Js"
      },
      "outputs": [],
      "source": [
        "# Resolução (parte1)\n",
        "def somar_múltiplos_abaixo_iguais_ao(limite):\n",
        "  multiplos_abaixo_iguais_ao_limite = []\n",
        "  for n in range(limite + 1):\n",
        "   if n % 3 == 0 or n % 5 == 0:\n",
        "    multiplos_abaixo_iguais_ao_limite.append(n)\n",
        "  return sum(multiplos_abaixo_iguais_ao_limite)\n"
      ]
    },
    {
      "cell_type": "code",
      "execution_count": 38,
      "metadata": {
        "colab": {
          "base_uri": "https://localhost:8080/"
        },
        "id": "a_6aqcKp6wrN",
        "outputId": "66f31b2b-ee1b-4f64-d7ee-02a12e0be906"
      },
      "outputs": [
        {
          "output_type": "stream",
          "name": "stdout",
          "text": [
            "O limite escolhido é:\n",
            "20\n",
            "A soma dos múltiplos entre 0 e 20 é:\n",
            "98\n"
          ]
        }
      ],
      "source": [
        "# Resolução (parte2)\n",
        "limite = 20\n",
        "print(\"O limite escolhido é:\")\n",
        "print(limite)\n",
        "print(f\"A soma dos múltiplos entre 0 e {limite} é:\")\n",
        "print(somar_múltiplos_abaixo_iguais_ao(limite))\n"
      ]
    },
    {
      "cell_type": "code",
      "source": [
        "somar_múltiplos_abaixo_iguais_ao(12)"
      ],
      "metadata": {
        "colab": {
          "base_uri": "https://localhost:8080/"
        },
        "id": "RkhP6VmCw-KI",
        "outputId": "b104ee5a-ffb5-4ffc-c0f8-ef325340c8ae"
      },
      "execution_count": 35,
      "outputs": [
        {
          "output_type": "execute_result",
          "data": {
            "text/plain": [
              "45"
            ]
          },
          "metadata": {},
          "execution_count": 35
        }
      ]
    },
    {
      "cell_type": "code",
      "source": [
        "somar_múltiplos_abaixo_iguais_ao(40)"
      ],
      "metadata": {
        "colab": {
          "base_uri": "https://localhost:8080/"
        },
        "id": "wdjaxwLhxOZm",
        "outputId": "0e0cd9cd-d917-437d-8a7f-2284b25ac5c7"
      },
      "execution_count": 37,
      "outputs": [
        {
          "output_type": "execute_result",
          "data": {
            "text/plain": [
              "408"
            ]
          },
          "metadata": {},
          "execution_count": 37
        }
      ]
    }
  ],
  "metadata": {
    "anaconda-cloud": {},
    "colab": {
      "name": "Desafio 9.ipynb",
      "provenance": [],
      "include_colab_link": true
    },
    "kernelspec": {
      "display_name": "Python 3",
      "language": "python",
      "name": "python3"
    },
    "language_info": {
      "codemirror_mode": {
        "name": "ipython",
        "version": 3
      },
      "file_extension": ".py",
      "mimetype": "text/x-python",
      "name": "python",
      "nbconvert_exporter": "python",
      "pygments_lexer": "ipython3",
      "version": "3.7.9"
    }
  },
  "nbformat": 4,
  "nbformat_minor": 0
}