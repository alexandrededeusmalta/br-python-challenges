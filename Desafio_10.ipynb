{
  "cells": [
    {
      "cell_type": "markdown",
      "metadata": {
        "id": "view-in-github",
        "colab_type": "text"
      },
      "source": [
        "<a href=\"https://colab.research.google.com/github/alexandrededeusmalta/br-python-challenges/blob/master/Desafio_10.ipynb\" target=\"_parent\"><img src=\"https://colab.research.google.com/assets/colab-badge.svg\" alt=\"Open In Colab\"/></a>"
      ]
    },
    {
      "cell_type": "markdown",
      "metadata": {
        "id": "a4-FLDRof6Jv"
      },
      "source": [
        "### Desafio 10\n",
        "\n",
        "Dada uma lista, divida-a em 3 partes iguais e reverta a ordem de cada lista.\n",
        "\n",
        "**Exemplo:** \n",
        "\n",
        "Entrada: \\\n",
        "sampleList = [11, 45, 8, 23, 14, 12, 78, 45, 89]\n",
        "\n",
        "Saída: \\\n",
        "Parte 1 [8, 45, 11] \\\n",
        "Parte 2 [12, 14, 23] \\\n",
        "Parte 3 [89, 45, 78] "
      ]
    },
    {
      "cell_type": "code",
      "execution_count": 13,
      "metadata": {
        "id": "IJ70pUjnf6Jw"
      },
      "outputs": [],
      "source": [
        "\n",
        "# Resolução 1\n",
        "\n",
        "sampleList = [11, 45, 8, 23, 14, 12, 78, 45, 89]\n",
        "\n",
        "# Dividindo a lista em três partes iguais\n",
        "\n",
        "def função(lista):\n",
        "   um_terço = int(len(lista)/3)\n",
        "   dois_terços = um_terço*2\n",
        "   parte_um = lista[0:um_terço]\n",
        "   parte_dois=lista[um_terço:dois_terços]\n",
        "   parte_três=lista[dois_terços::]\n",
        "\n",
        "# Invertendo as listas divididas\n",
        "\n",
        "   print(parte_um[::-1])\n",
        "   print(parte_dois[::-1])\n",
        "   print(parte_três[::-1])"
      ]
    },
    {
      "cell_type": "code",
      "source": [
        "função(sampleList)"
      ],
      "metadata": {
        "id": "s7kcvG6g9L1C",
        "outputId": "a4cef45e-81b8-48a8-d170-0be84df3dc98",
        "colab": {
          "base_uri": "https://localhost:8080/"
        }
      },
      "execution_count": 14,
      "outputs": [
        {
          "output_type": "stream",
          "name": "stdout",
          "text": [
            "[8, 45, 11]\n",
            "[12, 14, 23]\n",
            "[89, 45, 78]\n"
          ]
        }
      ]
    },
    {
      "cell_type": "code",
      "source": [
        "# Resolução 2\n",
        "\n",
        "def separa(lista):\n",
        "  if len(lista) % 3 == 0:\n",
        "    tamanho = int(len(lista)/3)\n",
        "    return lista[0:tamanho][::-1], lista[tamanho:tamanho*2][::-1], lista[tamanho*2:tamanho*3][::-1]\n",
        "  else:\n",
        "    return \"ND3\""
      ],
      "metadata": {
        "id": "woWHZr8F915t"
      },
      "execution_count": 18,
      "outputs": []
    },
    {
      "cell_type": "code",
      "source": [
        "separa(sampleList)"
      ],
      "metadata": {
        "id": "7MPES_i2AGuT",
        "outputId": "5235e807-591f-4f2d-94b9-dc3e47cf48ac",
        "colab": {
          "base_uri": "https://localhost:8080/"
        }
      },
      "execution_count": 19,
      "outputs": [
        {
          "output_type": "execute_result",
          "data": {
            "text/plain": [
              "([8, 45, 11], [12, 14, 23], [89, 45, 78])"
            ]
          },
          "metadata": {},
          "execution_count": 19
        }
      ]
    },
    {
      "cell_type": "code",
      "source": [
        "separa([1,4,6,7,9,0,4,7,3,2])"
      ],
      "metadata": {
        "id": "9xRORs3lBMGN",
        "outputId": "5855896f-91cf-4ef4-9724-27d6fd265d91",
        "colab": {
          "base_uri": "https://localhost:8080/",
          "height": 36
        }
      },
      "execution_count": 20,
      "outputs": [
        {
          "output_type": "execute_result",
          "data": {
            "text/plain": [
              "'ND3'"
            ],
            "application/vnd.google.colaboratory.intrinsic+json": {
              "type": "string"
            }
          },
          "metadata": {},
          "execution_count": 20
        }
      ]
    },
    {
      "cell_type": "code",
      "source": [
        "separa([12,45,2,4,8,9,0,6,4,33,12,56])"
      ],
      "metadata": {
        "id": "bs4Bq8BiBT_z",
        "outputId": "9546bd00-7c38-42f5-d03b-3cc320a2f110",
        "colab": {
          "base_uri": "https://localhost:8080/"
        }
      },
      "execution_count": 21,
      "outputs": [
        {
          "output_type": "execute_result",
          "data": {
            "text/plain": [
              "([4, 2, 45, 12], [6, 0, 9, 8], [56, 12, 33, 4])"
            ]
          },
          "metadata": {},
          "execution_count": 21
        }
      ]
    }
  ],
  "metadata": {
    "anaconda-cloud": {},
    "colab": {
      "name": "Desafio 10.ipynb",
      "provenance": [],
      "include_colab_link": true
    },
    "kernelspec": {
      "display_name": "Python 3",
      "language": "python",
      "name": "python3"
    },
    "language_info": {
      "codemirror_mode": {
        "name": "ipython",
        "version": 3
      },
      "file_extension": ".py",
      "mimetype": "text/x-python",
      "name": "python",
      "nbconvert_exporter": "python",
      "pygments_lexer": "ipython3",
      "version": "3.7.9"
    }
  },
  "nbformat": 4,
  "nbformat_minor": 0
}